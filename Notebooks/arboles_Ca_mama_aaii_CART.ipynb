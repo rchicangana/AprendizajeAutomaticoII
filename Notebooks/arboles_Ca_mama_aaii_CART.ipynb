{
 "cells": [
  {
   "cell_type": "markdown",
   "metadata": {
    "id": "CadUbnVNLNlk"
   },
   "source": [
    "# Modeling de Cancer de Mama\n",
    "\n",
    "Se prueban inicialmente bajo un train/validation/split los modelos de:\n",
    "\n",
    "Ahora iniciaremos con modelos de arboles\n",
    "\n",
    "  * CART\n",
    "\n",
    "  * ID3\n",
    "\n",
    "Y ejecutaremos los visto en la clase anterior\n",
    "\n",
    "  * Regresión Logística\n",
    "\n",
    "  * Knn"
   ]
  },
  {
   "cell_type": "markdown",
   "metadata": {
    "id": "QIn-FJs_LNlm"
   },
   "source": [
    "## Importamos Librerias"
   ]
  },
  {
   "cell_type": "code",
   "execution_count": 44,
   "metadata": {
    "_cell_guid": "b1076dfc-b9ad-4769-8c92-a6c4dae69d19",
    "_uuid": "8f2839f25d086af736a60e9eeb907d3b93b6e0e5",
    "execution": {
     "iopub.execute_input": "2025-03-20T02:59:37.935704Z",
     "iopub.status.busy": "2025-03-20T02:59:37.935359Z",
     "iopub.status.idle": "2025-03-20T02:59:38.442599Z",
     "shell.execute_reply": "2025-03-20T02:59:38.441775Z",
     "shell.execute_reply.started": "2025-03-20T02:59:37.935675Z"
    },
    "id": "Ib-7S6fGLNlm",
    "trusted": true
   },
   "outputs": [],
   "source": [
    "import numpy as np  # Algebra lineal, manipulación de arreglos numéricos.\n",
    "import pandas as pd  # Procesamiento de datos, lectura/escritura de archivos CSV.\n",
    "import os.path as osp  # Manejo de rutas de archivos.\n",
    "import pickle  # Serialización y deserialización de objetos Python (guardar/cargar modelos).\n",
    "\n",
    "\n",
    "# Modelos de clasificación Adicional\n",
    "\n",
    "from sklearn import tree\n",
    "\n",
    "# Modelos de clasificación\n",
    "from sklearn.linear_model import LogisticRegression  # Modelo de regresión logística para clasificación binaria.\n",
    "from sklearn.neighbors import KNeighborsClassifier  # K-Nearest Neighbors (KNN) para clasificación basada en distancia.\n",
    "from sklearn.naive_bayes import GaussianNB  # Clasificador Naive Bayes basado en distribución Gaussiana.\n",
    "\n",
    "# Preprocesamiento de datos\n",
    "from sklearn.preprocessing import OneHotEncoder  # Codificación one-hot para variables categóricas nominales.\n",
    "from sklearn.preprocessing import OrdinalEncoder  # Codificación ordinal para variables categóricas con orden.\n",
    "from sklearn.preprocessing import StandardScaler  # Normalización de datos para mejorar el rendimiento del modelo.\n",
    "from sklearn.preprocessing import FunctionTransformer  # Aplicación de transformaciones personalizadas.\n",
    "\n",
    "# División del conjunto de datos\n",
    "from sklearn.model_selection import train_test_split  # División en conjunto de entrenamiento y prueba.\n",
    "\n",
    "# Selección de características\n",
    "from sklearn.feature_selection import VarianceThreshold  # Elimina características con varianza baja (irrelevantes).\n",
    "from sklearn.feature_selection import SelectPercentile, chi2  # Selección de características más relevantes con Chi-cuadrado.\n",
    "\n",
    "# Construcción del pipeline de procesamiento y modelado\n",
    "from sklearn.compose import ColumnTransformer  # Aplica transformaciones específicas a diferentes columnas.\n",
    "from sklearn.pipeline import Pipeline, make_pipeline  # Automatiza el flujo de preprocesamiento y modelado.\n",
    "\n",
    "# Manejo de valores faltantes\n",
    "from sklearn.impute import SimpleImputer  # Rellena valores faltantes con media, mediana, moda, etc.\n",
    "\n",
    "# Evaluación de modelos\n",
    "import sklearn.metrics as skm  # Métricas de rendimiento como precisión, recall, F1-score, AUC-ROC, etc.\n",
    "\n",
    "# Visualización de datos\n",
    "import matplotlib.pyplot as plt  # Gráficos y visualización de métricas.\n",
    "import seaborn as sns  # Visualización avanzada con gráficos estadísticos.\n",
    "\n",
    "# Medición de tiempos de ejecución\n",
    "from time import time  # Captura de tiempo de inicio y fin de ejecución.\n",
    "from datetime import timedelta  # Cálculo de diferencias de tiempo en ejecución.\n",
    "\n",
    "# Input data files are available in the read-only \"../input/\" directory\n",
    "# For example, running this (by clicking run or pressing Shift+Enter) will list all files under the input directory\n",
    "\n"
   ]
  },
  {
   "cell_type": "markdown",
   "metadata": {
    "id": "viXU7tnGLNlo"
   },
   "source": [
    "## Funciones útiles"
   ]
  },
  {
   "cell_type": "code",
   "execution_count": 45,
   "metadata": {
    "execution": {
     "iopub.execute_input": "2025-03-20T02:59:43.443678Z",
     "iopub.status.busy": "2025-03-20T02:59:43.443199Z",
     "iopub.status.idle": "2025-03-20T02:59:43.449716Z",
     "shell.execute_reply": "2025-03-20T02:59:43.448752Z",
     "shell.execute_reply.started": "2025-03-20T02:59:43.443649Z"
    },
    "id": "LADhlgoULNlp",
    "trusted": true
   },
   "outputs": [],
   "source": [
    "def get_imbalaced_metrics(y_true, y_preds):\n",
    "    '''calcula métricas de evaluación para modelos de clasificación cuando los datos están desbalanceados.'''\n",
    "    ths = np.linspace(0, 1, 1000)\n",
    "    best_th = ths[\n",
    "        np.argmax([skm.f1_score(y_true, y_preds>th) for th in ths])\n",
    "    ]\n",
    "\n",
    "    roc_auc = skm.roc_auc_score(y_true, y_preds)\n",
    "    average_precision = skm.average_precision_score(y_true, y_preds)\n",
    "    max_f1 = skm.f1_score(y_true, y_preds>best_th)\n",
    "    accuracy_on_max_f1 = skm.accuracy_score(y_true, y_preds>best_th)\n",
    "    kappa = skm.cohen_kappa_score(y_true, y_preds>best_th)\n",
    "    baseline=y_true.value_counts(True)\n",
    "\n",
    "    return dict(\n",
    "        roc_auc=roc_auc,\n",
    "        average_precision=average_precision,\n",
    "        max_f1=max_f1,\n",
    "        accuracy_on_max_f1=accuracy_on_max_f1,\n",
    "        kappa=kappa,\n",
    "        baseline=baseline.iloc[0]\n",
    "    )"
   ]
  },
  {
   "cell_type": "markdown",
   "metadata": {
    "id": "BhE3uqAMLNlp"
   },
   "source": [
    "## Carga de Datos\n",
    "\n",
    "Este fragmento de código carga los datos del conjunto de entrenamiento (df_train.parquet) desde un directorio en Kaggle."
   ]
  },
  {
   "cell_type": "code",
   "execution_count": 46,
   "metadata": {
    "colab": {
     "base_uri": "https://localhost:8080/",
     "height": 287
    },
    "execution": {
     "iopub.execute_input": "2025-03-20T02:59:51.163460Z",
     "iopub.status.busy": "2025-03-20T02:59:51.163117Z",
     "iopub.status.idle": "2025-03-20T02:59:51.392229Z",
     "shell.execute_reply": "2025-03-20T02:59:51.391270Z",
     "shell.execute_reply.started": "2025-03-20T02:59:51.163433Z"
    },
    "id": "cy8kp6X6LNlp",
    "outputId": "5aca4688-d57b-4db2-9e2b-2d327b78558b",
    "trusted": true
   },
   "outputs": [
    {
     "data": {
      "application/vnd.microsoft.datawrangler.viewer.v0+json": {
       "columns": [
        {
         "name": "ID",
         "rawType": "int64",
         "type": "integer"
        },
        {
         "name": "GENERO",
         "rawType": "object",
         "type": "string"
        },
        {
         "name": "ESTADO_CIVIL",
         "rawType": "object",
         "type": "string"
        },
        {
         "name": "FECHA_NACIMIENTO",
         "rawType": "datetime64[us]",
         "type": "unknown"
        },
        {
         "name": "CODIGO_SEDE",
         "rawType": "object",
         "type": "unknown"
        },
        {
         "name": "MULTI_CANCER",
         "rawType": "object",
         "type": "unknown"
        },
        {
         "name": "CESION",
         "rawType": "object",
         "type": "string"
        },
        {
         "name": "RIESGOS",
         "rawType": "float64",
         "type": "float"
        },
        {
         "name": "CANCER_MAMA_FAMILIAR",
         "rawType": "object",
         "type": "string"
        },
        {
         "name": "CANCER_OTRO_SITIO",
         "rawType": "object",
         "type": "string"
        },
        {
         "name": "CANCER_OTRO_SITIO_FAMILIAR",
         "rawType": "object",
         "type": "string"
        },
        {
         "name": "CEREBRAL_FAMILIAR",
         "rawType": "object",
         "type": "string"
        },
        {
         "name": "FECHA_DATOS_PESO_TALLA",
         "rawType": "datetime64[us]",
         "type": "unknown"
        },
        {
         "name": "PESO",
         "rawType": "float64",
         "type": "float"
        },
        {
         "name": "TALLA",
         "rawType": "float64",
         "type": "float"
        },
        {
         "name": "FECHA_CONSULTA_TENSION",
         "rawType": "datetime64[us]",
         "type": "unknown"
        },
        {
         "name": "TSISTOLICA",
         "rawType": "float64",
         "type": "float"
        },
        {
         "name": "TDIASTOLICA",
         "rawType": "float64",
         "type": "float"
        },
        {
         "name": "Fecha_cero",
         "rawType": "datetime64[us]",
         "type": "unknown"
        },
        {
         "name": "Target",
         "rawType": "float64",
         "type": "float"
        },
        {
         "name": "mes_6",
         "rawType": "float64",
         "type": "float"
        },
        {
         "name": "mes_5",
         "rawType": "float64",
         "type": "float"
        },
        {
         "name": "mes_4",
         "rawType": "float64",
         "type": "float"
        },
        {
         "name": "mes_3",
         "rawType": "float64",
         "type": "float"
        },
        {
         "name": "mes_2",
         "rawType": "float64",
         "type": "float"
        },
        {
         "name": "mes_1",
         "rawType": "float64",
         "type": "float"
        },
        {
         "name": "valor_servicio",
         "rawType": "float64",
         "type": "float"
        },
        {
         "name": "IV_NIVEL",
         "rawType": "float64",
         "type": "float"
        },
        {
         "name": "HOSPI_NO_QUIRURGICA",
         "rawType": "float64",
         "type": "float"
        },
        {
         "name": "URGENCIAS",
         "rawType": "float64",
         "type": "float"
        },
        {
         "name": "HOSPITALIZACION",
         "rawType": "float64",
         "type": "float"
        },
        {
         "name": "CITA_ONCOLOGICA",
         "rawType": "float64",
         "type": "float"
        },
        {
         "name": "Biopsias_cancer",
         "rawType": "float64",
         "type": "float"
        },
        {
         "name": "radioterapias_cancer",
         "rawType": "float64",
         "type": "float"
        },
        {
         "name": "quimioterapias__cancer",
         "rawType": "float64",
         "type": "float"
        },
        {
         "name": "hormonoterapias__cancer",
         "rawType": "float64",
         "type": "float"
        },
        {
         "name": "cuidado_palitiavo__cancer",
         "rawType": "float64",
         "type": "float"
        },
        {
         "name": "inmunoterapias_cancer",
         "rawType": "float64",
         "type": "float"
        },
        {
         "name": "Citas_oncologicas_cancer",
         "rawType": "float64",
         "type": "float"
        },
        {
         "name": "psiquiatria_cancer",
         "rawType": "float64",
         "type": "float"
        },
        {
         "name": "psicologia_cancer",
         "rawType": "float64",
         "type": "float"
        },
        {
         "name": "nutricion_cancer",
         "rawType": "float64",
         "type": "float"
        },
        {
         "name": "atencion_nutricion",
         "rawType": "object",
         "type": "string"
        }
       ],
       "conversionMethod": "pd.DataFrame",
       "ref": "29d50a5b-fb44-4a91-b7f4-ea6322f4376c",
       "rows": [
        [
         "2987",
         "F",
         "SO",
         "1977-01-17 00:00:00",
         "1051",
         null,
         "0",
         "2.0",
         "0",
         "0",
         "1",
         "0",
         "2023-03-02 00:00:00",
         "52.0",
         "149.0",
         "2023-03-02 00:00:00",
         "112.0",
         "70.0",
         "2023-03-01 00:00:00",
         "0.0",
         "51060.0",
         "29220.0",
         "303680.0",
         "0.0",
         "33140.0",
         "36940.0",
         "454040.0",
         "3.0",
         "0.0",
         "0.0",
         "0.0",
         "2.0",
         "0.0",
         "0.0",
         "0.0",
         "0.0",
         "0.0",
         "0.0",
         "2.0",
         "0.0",
         "0.0",
         "0.0",
         "Sin servicios nutricion"
        ],
        [
         "3423",
         "F",
         "CA",
         "1980-10-13 00:00:00",
         "1028",
         null,
         "0",
         "1.0",
         "0",
         "0",
         "0",
         "0",
         "2023-03-13 00:00:00",
         "67.0",
         "163.0",
         "2022-09-08 00:00:00",
         "120.0",
         "80.0",
         "2023-03-01 00:00:00",
         "0.0",
         "544460.0",
         "518002.0",
         "4800.0",
         "122815.0",
         "0.0",
         "0.0",
         "1190077.0",
         "3.0",
         "0.0",
         "0.0",
         "0.0",
         "5.0",
         "0.0",
         "0.0",
         "0.0",
         "0.0",
         "0.0",
         "0.0",
         "5.0",
         "1.0",
         "1.0",
         "0.0",
         "Sin servicios nutricion"
        ],
        [
         "6981",
         "F",
         "SO",
         "1951-10-28 00:00:00",
         "1022",
         null,
         "0",
         "3.0",
         "0",
         "0",
         "0",
         "0",
         "2023-03-03 00:00:00",
         "77.0",
         "152.0",
         "2023-03-03 00:00:00",
         "110.0",
         "80.0",
         "2023-03-01 00:00:00",
         "0.0",
         "0.0",
         "0.0",
         "0.0",
         "49410.0",
         "0.0",
         "0.0",
         "49410.0",
         "0.0",
         "0.0",
         "0.0",
         "0.0",
         "0.0",
         "0.0",
         "0.0",
         "0.0",
         "0.0",
         "0.0",
         "0.0",
         "0.0",
         "0.0",
         "0.0",
         "1.0",
         "Una servicio nutricion"
        ],
        [
         "6701",
         "F",
         "SO",
         "1984-03-31 00:00:00",
         "1026",
         null,
         "0",
         "1.0",
         "0",
         "0",
         "0",
         "0",
         "2021-03-09 00:00:00",
         "60.0",
         "160.0",
         "2021-01-18 00:00:00",
         "120.0",
         "80.0",
         "2021-12-01 00:00:00",
         "0.0",
         "316307.0",
         "161672.0",
         "204760.0",
         "38670.0",
         "0.0",
         "38670.0",
         "760079.0",
         "2.0",
         "0.0",
         "0.0",
         "0.0",
         "4.0",
         "0.0",
         "0.0",
         "0.0",
         "0.0",
         "0.0",
         "0.0",
         "4.0",
         "0.0",
         "0.0",
         "0.0",
         "Sin servicios nutricion"
        ],
        [
         "7361",
         "F",
         "UL",
         "1974-03-28 00:00:00",
         "1007",
         null,
         "0",
         "1.0",
         "0",
         "0",
         "0",
         "0",
         "2022-11-10 00:00:00",
         "56.5",
         "157.0",
         "2022-11-10 00:00:00",
         "117.0",
         "65.0",
         "2023-03-01 00:00:00",
         "0.0",
         "0.0",
         "3903090.0",
         "1317014.0",
         "2697998.0",
         "910580.0",
         "939748.0",
         "9768430.0",
         "42.0",
         "0.0",
         "0.0",
         "0.0",
         "7.0",
         "0.0",
         "0.0",
         "1.0",
         "0.0",
         "0.0",
         "0.0",
         "7.0",
         "0.0",
         "0.0",
         "0.0",
         "Sin servicios nutricion"
        ]
       ],
       "shape": {
        "columns": 42,
        "rows": 5
       }
      },
      "text/html": [
       "<div>\n",
       "<style scoped>\n",
       "    .dataframe tbody tr th:only-of-type {\n",
       "        vertical-align: middle;\n",
       "    }\n",
       "\n",
       "    .dataframe tbody tr th {\n",
       "        vertical-align: top;\n",
       "    }\n",
       "\n",
       "    .dataframe thead th {\n",
       "        text-align: right;\n",
       "    }\n",
       "</style>\n",
       "<table border=\"1\" class=\"dataframe\">\n",
       "  <thead>\n",
       "    <tr style=\"text-align: right;\">\n",
       "      <th></th>\n",
       "      <th>GENERO</th>\n",
       "      <th>ESTADO_CIVIL</th>\n",
       "      <th>FECHA_NACIMIENTO</th>\n",
       "      <th>CODIGO_SEDE</th>\n",
       "      <th>MULTI_CANCER</th>\n",
       "      <th>CESION</th>\n",
       "      <th>RIESGOS</th>\n",
       "      <th>CANCER_MAMA_FAMILIAR</th>\n",
       "      <th>CANCER_OTRO_SITIO</th>\n",
       "      <th>CANCER_OTRO_SITIO_FAMILIAR</th>\n",
       "      <th>...</th>\n",
       "      <th>radioterapias_cancer</th>\n",
       "      <th>quimioterapias__cancer</th>\n",
       "      <th>hormonoterapias__cancer</th>\n",
       "      <th>cuidado_palitiavo__cancer</th>\n",
       "      <th>inmunoterapias_cancer</th>\n",
       "      <th>Citas_oncologicas_cancer</th>\n",
       "      <th>psiquiatria_cancer</th>\n",
       "      <th>psicologia_cancer</th>\n",
       "      <th>nutricion_cancer</th>\n",
       "      <th>atencion_nutricion</th>\n",
       "    </tr>\n",
       "    <tr>\n",
       "      <th>ID</th>\n",
       "      <th></th>\n",
       "      <th></th>\n",
       "      <th></th>\n",
       "      <th></th>\n",
       "      <th></th>\n",
       "      <th></th>\n",
       "      <th></th>\n",
       "      <th></th>\n",
       "      <th></th>\n",
       "      <th></th>\n",
       "      <th></th>\n",
       "      <th></th>\n",
       "      <th></th>\n",
       "      <th></th>\n",
       "      <th></th>\n",
       "      <th></th>\n",
       "      <th></th>\n",
       "      <th></th>\n",
       "      <th></th>\n",
       "      <th></th>\n",
       "      <th></th>\n",
       "    </tr>\n",
       "  </thead>\n",
       "  <tbody>\n",
       "    <tr>\n",
       "      <th>2987</th>\n",
       "      <td>F</td>\n",
       "      <td>SO</td>\n",
       "      <td>1977-01-17</td>\n",
       "      <td>1051</td>\n",
       "      <td>None</td>\n",
       "      <td>0</td>\n",
       "      <td>2.0</td>\n",
       "      <td>0</td>\n",
       "      <td>0</td>\n",
       "      <td>1</td>\n",
       "      <td>...</td>\n",
       "      <td>0.0</td>\n",
       "      <td>0.0</td>\n",
       "      <td>0.0</td>\n",
       "      <td>0.0</td>\n",
       "      <td>0.0</td>\n",
       "      <td>2.0</td>\n",
       "      <td>0.0</td>\n",
       "      <td>0.0</td>\n",
       "      <td>0.0</td>\n",
       "      <td>Sin servicios nutricion</td>\n",
       "    </tr>\n",
       "    <tr>\n",
       "      <th>3423</th>\n",
       "      <td>F</td>\n",
       "      <td>CA</td>\n",
       "      <td>1980-10-13</td>\n",
       "      <td>1028</td>\n",
       "      <td>None</td>\n",
       "      <td>0</td>\n",
       "      <td>1.0</td>\n",
       "      <td>0</td>\n",
       "      <td>0</td>\n",
       "      <td>0</td>\n",
       "      <td>...</td>\n",
       "      <td>0.0</td>\n",
       "      <td>0.0</td>\n",
       "      <td>0.0</td>\n",
       "      <td>0.0</td>\n",
       "      <td>0.0</td>\n",
       "      <td>5.0</td>\n",
       "      <td>1.0</td>\n",
       "      <td>1.0</td>\n",
       "      <td>0.0</td>\n",
       "      <td>Sin servicios nutricion</td>\n",
       "    </tr>\n",
       "    <tr>\n",
       "      <th>6981</th>\n",
       "      <td>F</td>\n",
       "      <td>SO</td>\n",
       "      <td>1951-10-28</td>\n",
       "      <td>1022</td>\n",
       "      <td>None</td>\n",
       "      <td>0</td>\n",
       "      <td>3.0</td>\n",
       "      <td>0</td>\n",
       "      <td>0</td>\n",
       "      <td>0</td>\n",
       "      <td>...</td>\n",
       "      <td>0.0</td>\n",
       "      <td>0.0</td>\n",
       "      <td>0.0</td>\n",
       "      <td>0.0</td>\n",
       "      <td>0.0</td>\n",
       "      <td>0.0</td>\n",
       "      <td>0.0</td>\n",
       "      <td>0.0</td>\n",
       "      <td>1.0</td>\n",
       "      <td>Una servicio nutricion</td>\n",
       "    </tr>\n",
       "    <tr>\n",
       "      <th>6701</th>\n",
       "      <td>F</td>\n",
       "      <td>SO</td>\n",
       "      <td>1984-03-31</td>\n",
       "      <td>1026</td>\n",
       "      <td>None</td>\n",
       "      <td>0</td>\n",
       "      <td>1.0</td>\n",
       "      <td>0</td>\n",
       "      <td>0</td>\n",
       "      <td>0</td>\n",
       "      <td>...</td>\n",
       "      <td>0.0</td>\n",
       "      <td>0.0</td>\n",
       "      <td>0.0</td>\n",
       "      <td>0.0</td>\n",
       "      <td>0.0</td>\n",
       "      <td>4.0</td>\n",
       "      <td>0.0</td>\n",
       "      <td>0.0</td>\n",
       "      <td>0.0</td>\n",
       "      <td>Sin servicios nutricion</td>\n",
       "    </tr>\n",
       "    <tr>\n",
       "      <th>7361</th>\n",
       "      <td>F</td>\n",
       "      <td>UL</td>\n",
       "      <td>1974-03-28</td>\n",
       "      <td>1007</td>\n",
       "      <td>None</td>\n",
       "      <td>0</td>\n",
       "      <td>1.0</td>\n",
       "      <td>0</td>\n",
       "      <td>0</td>\n",
       "      <td>0</td>\n",
       "      <td>...</td>\n",
       "      <td>0.0</td>\n",
       "      <td>1.0</td>\n",
       "      <td>0.0</td>\n",
       "      <td>0.0</td>\n",
       "      <td>0.0</td>\n",
       "      <td>7.0</td>\n",
       "      <td>0.0</td>\n",
       "      <td>0.0</td>\n",
       "      <td>0.0</td>\n",
       "      <td>Sin servicios nutricion</td>\n",
       "    </tr>\n",
       "  </tbody>\n",
       "</table>\n",
       "<p>5 rows × 42 columns</p>\n",
       "</div>"
      ],
      "text/plain": [
       "     GENERO ESTADO_CIVIL FECHA_NACIMIENTO CODIGO_SEDE MULTI_CANCER CESION  \\\n",
       "ID                                                                          \n",
       "2987      F           SO       1977-01-17        1051         None      0   \n",
       "3423      F           CA       1980-10-13        1028         None      0   \n",
       "6981      F           SO       1951-10-28        1022         None      0   \n",
       "6701      F           SO       1984-03-31        1026         None      0   \n",
       "7361      F           UL       1974-03-28        1007         None      0   \n",
       "\n",
       "      RIESGOS CANCER_MAMA_FAMILIAR CANCER_OTRO_SITIO  \\\n",
       "ID                                                     \n",
       "2987      2.0                    0                 0   \n",
       "3423      1.0                    0                 0   \n",
       "6981      3.0                    0                 0   \n",
       "6701      1.0                    0                 0   \n",
       "7361      1.0                    0                 0   \n",
       "\n",
       "     CANCER_OTRO_SITIO_FAMILIAR  ... radioterapias_cancer  \\\n",
       "ID                               ...                        \n",
       "2987                          1  ...                  0.0   \n",
       "3423                          0  ...                  0.0   \n",
       "6981                          0  ...                  0.0   \n",
       "6701                          0  ...                  0.0   \n",
       "7361                          0  ...                  0.0   \n",
       "\n",
       "     quimioterapias__cancer  hormonoterapias__cancer  \\\n",
       "ID                                                     \n",
       "2987                    0.0                      0.0   \n",
       "3423                    0.0                      0.0   \n",
       "6981                    0.0                      0.0   \n",
       "6701                    0.0                      0.0   \n",
       "7361                    1.0                      0.0   \n",
       "\n",
       "      cuidado_palitiavo__cancer inmunoterapias_cancer  \\\n",
       "ID                                                      \n",
       "2987                        0.0                   0.0   \n",
       "3423                        0.0                   0.0   \n",
       "6981                        0.0                   0.0   \n",
       "6701                        0.0                   0.0   \n",
       "7361                        0.0                   0.0   \n",
       "\n",
       "      Citas_oncologicas_cancer  psiquiatria_cancer psicologia_cancer  \\\n",
       "ID                                                                     \n",
       "2987                       2.0                 0.0               0.0   \n",
       "3423                       5.0                 1.0               1.0   \n",
       "6981                       0.0                 0.0               0.0   \n",
       "6701                       4.0                 0.0               0.0   \n",
       "7361                       7.0                 0.0               0.0   \n",
       "\n",
       "      nutricion_cancer       atencion_nutricion  \n",
       "ID                                               \n",
       "2987               0.0  Sin servicios nutricion  \n",
       "3423               0.0  Sin servicios nutricion  \n",
       "6981               1.0   Una servicio nutricion  \n",
       "6701               0.0  Sin servicios nutricion  \n",
       "7361               0.0  Sin servicios nutricion  \n",
       "\n",
       "[5 rows x 42 columns]"
      ]
     },
     "execution_count": 46,
     "metadata": {},
     "output_type": "execute_result"
    }
   ],
   "source": [
    "#DATA_DIR = \"/kaggle/input/fa-i-2025-i-modelos-tradicionales-ca-mama/\"\n",
    "df = pd.read_parquet(\"../Data/df_train.parquet\")\n",
    "df.head()"
   ]
  },
  {
   "cell_type": "markdown",
   "metadata": {
    "id": "yuycAm8mLNlp"
   },
   "source": [
    "Separamos las características (X) y la variable objetivo (y) del conjunto de datos, y luego analiza el balance de clases en la variable objetivo. Del EDA realizado anteriormente ya sabiamos del desbalanceo de nuestra variable objetivo, un 11% de complicaciones."
   ]
  },
  {
   "cell_type": "code",
   "execution_count": 47,
   "metadata": {
    "colab": {
     "base_uri": "https://localhost:8080/",
     "height": 178
    },
    "execution": {
     "iopub.execute_input": "2025-03-20T02:59:52.609458Z",
     "iopub.status.busy": "2025-03-20T02:59:52.608929Z",
     "iopub.status.idle": "2025-03-20T02:59:52.625808Z",
     "shell.execute_reply": "2025-03-20T02:59:52.624520Z",
     "shell.execute_reply.started": "2025-03-20T02:59:52.609412Z"
    },
    "id": "yRGx5AvmLNlq",
    "outputId": "7fece783-60ea-4e82-d0e4-aaf0caf24515",
    "trusted": true
   },
   "outputs": [
    {
     "data": {
      "text/plain": [
       "Target\n",
       "0.0    88.697851\n",
       "1.0    11.302149\n",
       "Name: proportion, dtype: float64"
      ]
     },
     "execution_count": 47,
     "metadata": {},
     "output_type": "execute_result"
    }
   ],
   "source": [
    "X, y = df.drop(columns=\"Target\"), df[\"Target\"]\n",
    "y.value_counts(True) * 100"
   ]
  },
  {
   "cell_type": "code",
   "execution_count": 48,
   "metadata": {
    "colab": {
     "base_uri": "https://localhost:8080/"
    },
    "execution": {
     "iopub.execute_input": "2025-03-20T02:59:55.017316Z",
     "iopub.status.busy": "2025-03-20T02:59:55.016949Z",
     "iopub.status.idle": "2025-03-20T02:59:55.038440Z",
     "shell.execute_reply": "2025-03-20T02:59:55.037485Z",
     "shell.execute_reply.started": "2025-03-20T02:59:55.017288Z"
    },
    "id": "UGZkCLv1LNlq",
    "outputId": "a6f88a9a-e5da-4cfa-8c79-b93fb4e9ac0a",
    "trusted": true
   },
   "outputs": [
    {
     "name": "stdout",
     "output_type": "stream",
     "text": [
      "<class 'pandas.core.frame.DataFrame'>\n",
      "Index: 3955 entries, 2987 to 898\n",
      "Data columns (total 41 columns):\n",
      " #   Column                      Non-Null Count  Dtype         \n",
      "---  ------                      --------------  -----         \n",
      " 0   GENERO                      3955 non-null   object        \n",
      " 1   ESTADO_CIVIL                3955 non-null   object        \n",
      " 2   FECHA_NACIMIENTO            3955 non-null   datetime64[us]\n",
      " 3   CODIGO_SEDE                 3955 non-null   object        \n",
      " 4   MULTI_CANCER                337 non-null    object        \n",
      " 5   CESION                      3955 non-null   object        \n",
      " 6   RIESGOS                     3955 non-null   float64       \n",
      " 7   CANCER_MAMA_FAMILIAR        3955 non-null   object        \n",
      " 8   CANCER_OTRO_SITIO           3955 non-null   object        \n",
      " 9   CANCER_OTRO_SITIO_FAMILIAR  3955 non-null   object        \n",
      " 10  CEREBRAL_FAMILIAR           3955 non-null   object        \n",
      " 11  FECHA_DATOS_PESO_TALLA      3955 non-null   datetime64[us]\n",
      " 12  PESO                        3822 non-null   float64       \n",
      " 13  TALLA                       3822 non-null   float64       \n",
      " 14  FECHA_CONSULTA_TENSION      3955 non-null   datetime64[us]\n",
      " 15  TSISTOLICA                  3815 non-null   float64       \n",
      " 16  TDIASTOLICA                 3815 non-null   float64       \n",
      " 17  Fecha_cero                  3955 non-null   datetime64[us]\n",
      " 18  mes_6                       3955 non-null   float64       \n",
      " 19  mes_5                       3955 non-null   float64       \n",
      " 20  mes_4                       3955 non-null   float64       \n",
      " 21  mes_3                       3955 non-null   float64       \n",
      " 22  mes_2                       3955 non-null   float64       \n",
      " 23  mes_1                       3955 non-null   float64       \n",
      " 24  valor_servicio              3955 non-null   float64       \n",
      " 25  IV_NIVEL                    3955 non-null   float64       \n",
      " 26  HOSPI_NO_QUIRURGICA         3955 non-null   float64       \n",
      " 27  URGENCIAS                   3955 non-null   float64       \n",
      " 28  HOSPITALIZACION             3955 non-null   float64       \n",
      " 29  CITA_ONCOLOGICA             3955 non-null   float64       \n",
      " 30  Biopsias_cancer             3955 non-null   float64       \n",
      " 31  radioterapias_cancer        3955 non-null   float64       \n",
      " 32  quimioterapias__cancer      3955 non-null   float64       \n",
      " 33  hormonoterapias__cancer     3955 non-null   float64       \n",
      " 34  cuidado_palitiavo__cancer   3955 non-null   float64       \n",
      " 35  inmunoterapias_cancer       3955 non-null   float64       \n",
      " 36  Citas_oncologicas_cancer    3955 non-null   float64       \n",
      " 37  psiquiatria_cancer          3955 non-null   float64       \n",
      " 38  psicologia_cancer           3955 non-null   float64       \n",
      " 39  nutricion_cancer            3955 non-null   float64       \n",
      " 40  atencion_nutricion          3955 non-null   object        \n",
      "dtypes: datetime64[us](4), float64(27), object(10)\n",
      "memory usage: 1.3+ MB\n"
     ]
    }
   ],
   "source": [
    "X.info()"
   ]
  },
  {
   "cell_type": "markdown",
   "metadata": {
    "id": "GW_pZRBZLNlq"
   },
   "source": [
    "Calculamos la edad de los pacientes al momento de la complicación o corte del analisis."
   ]
  },
  {
   "cell_type": "code",
   "execution_count": null,
   "metadata": {
    "execution": {
     "iopub.execute_input": "2025-03-20T02:59:55.652755Z",
     "iopub.status.busy": "2025-03-20T02:59:55.652431Z",
     "iopub.status.idle": "2025-03-20T02:59:55.659380Z",
     "shell.execute_reply": "2025-03-20T02:59:55.658521Z",
     "shell.execute_reply.started": "2025-03-20T02:59:55.652729Z"
    },
    "id": "KaBeZ_f2LNlq",
    "trusted": true
   },
   "outputs": [
    {
     "ename": "ValueError",
     "evalue": "Bin labels must be one fewer than the number of bin edges",
     "output_type": "error",
     "traceback": [
      "\u001b[1;31m---------------------------------------------------------------------------\u001b[0m",
      "\u001b[1;31mValueError\u001b[0m                                Traceback (most recent call last)",
      "Cell \u001b[1;32mIn[50], line 6\u001b[0m\n\u001b[0;32m      4\u001b[0m X[\u001b[38;5;124m'\u001b[39m\u001b[38;5;124mIMC\u001b[39m\u001b[38;5;124m'\u001b[39m] \u001b[38;5;241m=\u001b[39m X[\u001b[38;5;124m'\u001b[39m\u001b[38;5;124mIMC\u001b[39m\u001b[38;5;124m'\u001b[39m]\u001b[38;5;241m.\u001b[39mfillna(X[\u001b[38;5;124m'\u001b[39m\u001b[38;5;124mIMC\u001b[39m\u001b[38;5;124m'\u001b[39m]\u001b[38;5;241m.\u001b[39mmean())  \u001b[38;5;66;03m# Rellenamos valores faltantes con la media\u001b[39;00m\n\u001b[0;32m      5\u001b[0m \u001b[38;5;66;03m#distribuimos EL IMC en 4 grupos SEGUN la OMS\u001b[39;00m\n\u001b[1;32m----> 6\u001b[0m X[\u001b[38;5;124m'\u001b[39m\u001b[38;5;124mIMC\u001b[39m\u001b[38;5;124m'\u001b[39m] \u001b[38;5;241m=\u001b[39m \u001b[43mpd\u001b[49m\u001b[38;5;241;43m.\u001b[39;49m\u001b[43mcut\u001b[49m\u001b[43m(\u001b[49m\u001b[43mX\u001b[49m\u001b[43m[\u001b[49m\u001b[38;5;124;43m'\u001b[39;49m\u001b[38;5;124;43mIMC\u001b[39;49m\u001b[38;5;124;43m'\u001b[39;49m\u001b[43m]\u001b[49m\u001b[43m,\u001b[49m\u001b[43m \u001b[49m\u001b[43mbins\u001b[49m\u001b[38;5;241;43m=\u001b[39;49m\u001b[43m[\u001b[49m\u001b[38;5;241;43m0\u001b[39;49m\u001b[43m,\u001b[49m\u001b[43m \u001b[49m\u001b[38;5;241;43m16\u001b[39;49m\u001b[43m,\u001b[49m\u001b[43m \u001b[49m\u001b[38;5;241;43m16.9\u001b[39;49m\u001b[43m,\u001b[49m\u001b[43m \u001b[49m\u001b[38;5;241;43m24.9\u001b[39;49m\u001b[43m,\u001b[49m\u001b[43m \u001b[49m\u001b[38;5;241;43m29.9\u001b[39;49m\u001b[43m,\u001b[49m\u001b[43m \u001b[49m\u001b[38;5;241;43m40\u001b[39;49m\u001b[43m,\u001b[49m\u001b[43m \u001b[49m\u001b[43mnp\u001b[49m\u001b[38;5;241;43m.\u001b[39;49m\u001b[43minf\u001b[49m\u001b[43m]\u001b[49m\u001b[43m,\u001b[49m\u001b[43m \u001b[49m\u001b[43mlabels\u001b[49m\u001b[38;5;241;43m=\u001b[39;49m\u001b[43m[\u001b[49m\u001b[38;5;241;43m1\u001b[39;49m\u001b[43m,\u001b[49m\u001b[43m \u001b[49m\u001b[38;5;241;43m2\u001b[39;49m\u001b[43m,\u001b[49m\u001b[43m \u001b[49m\u001b[38;5;241;43m3\u001b[39;49m\u001b[43m,\u001b[49m\u001b[43m \u001b[49m\u001b[38;5;241;43m4\u001b[39;49m\u001b[43m,\u001b[49m\u001b[43m \u001b[49m\u001b[38;5;241;43m5\u001b[39;49m\u001b[43m]\u001b[49m\u001b[43m)\u001b[49m\n\u001b[0;32m      7\u001b[0m X[\u001b[38;5;124m'\u001b[39m\u001b[38;5;124mIMC\u001b[39m\u001b[38;5;124m'\u001b[39m] \u001b[38;5;241m=\u001b[39m X[\u001b[38;5;124m'\u001b[39m\u001b[38;5;124mIMC\u001b[39m\u001b[38;5;124m'\u001b[39m]\u001b[38;5;241m.\u001b[39mastype(\u001b[38;5;124m\"\u001b[39m\u001b[38;5;124mInt64\u001b[39m\u001b[38;5;124m\"\u001b[39m)  \u001b[38;5;66;03m# Convertimos a tipo entero\u001b[39;00m\n\u001b[0;32m      8\u001b[0m \u001b[38;5;66;03m#X['IMC'] = X['IMC'].astype(\"Int64\")  # Convertimos a tipo entero\u001b[39;00m\n",
      "File \u001b[1;32mc:\\Users\\rchic\\AppData\\Local\\Programs\\Python\\Python313\\Lib\\site-packages\\pandas\\core\\reshape\\tile.py:257\u001b[0m, in \u001b[0;36mcut\u001b[1;34m(x, bins, right, labels, retbins, precision, include_lowest, duplicates, ordered)\u001b[0m\n\u001b[0;32m    254\u001b[0m     \u001b[38;5;28;01mif\u001b[39;00m \u001b[38;5;129;01mnot\u001b[39;00m bins\u001b[38;5;241m.\u001b[39mis_monotonic_increasing:\n\u001b[0;32m    255\u001b[0m         \u001b[38;5;28;01mraise\u001b[39;00m \u001b[38;5;167;01mValueError\u001b[39;00m(\u001b[38;5;124m\"\u001b[39m\u001b[38;5;124mbins must increase monotonically.\u001b[39m\u001b[38;5;124m\"\u001b[39m)\n\u001b[1;32m--> 257\u001b[0m fac, bins \u001b[38;5;241m=\u001b[39m \u001b[43m_bins_to_cuts\u001b[49m\u001b[43m(\u001b[49m\n\u001b[0;32m    258\u001b[0m \u001b[43m    \u001b[49m\u001b[43mx_idx\u001b[49m\u001b[43m,\u001b[49m\n\u001b[0;32m    259\u001b[0m \u001b[43m    \u001b[49m\u001b[43mbins\u001b[49m\u001b[43m,\u001b[49m\n\u001b[0;32m    260\u001b[0m \u001b[43m    \u001b[49m\u001b[43mright\u001b[49m\u001b[38;5;241;43m=\u001b[39;49m\u001b[43mright\u001b[49m\u001b[43m,\u001b[49m\n\u001b[0;32m    261\u001b[0m \u001b[43m    \u001b[49m\u001b[43mlabels\u001b[49m\u001b[38;5;241;43m=\u001b[39;49m\u001b[43mlabels\u001b[49m\u001b[43m,\u001b[49m\n\u001b[0;32m    262\u001b[0m \u001b[43m    \u001b[49m\u001b[43mprecision\u001b[49m\u001b[38;5;241;43m=\u001b[39;49m\u001b[43mprecision\u001b[49m\u001b[43m,\u001b[49m\n\u001b[0;32m    263\u001b[0m \u001b[43m    \u001b[49m\u001b[43minclude_lowest\u001b[49m\u001b[38;5;241;43m=\u001b[39;49m\u001b[43minclude_lowest\u001b[49m\u001b[43m,\u001b[49m\n\u001b[0;32m    264\u001b[0m \u001b[43m    \u001b[49m\u001b[43mduplicates\u001b[49m\u001b[38;5;241;43m=\u001b[39;49m\u001b[43mduplicates\u001b[49m\u001b[43m,\u001b[49m\n\u001b[0;32m    265\u001b[0m \u001b[43m    \u001b[49m\u001b[43mordered\u001b[49m\u001b[38;5;241;43m=\u001b[39;49m\u001b[43mordered\u001b[49m\u001b[43m,\u001b[49m\n\u001b[0;32m    266\u001b[0m \u001b[43m\u001b[49m\u001b[43m)\u001b[49m\n\u001b[0;32m    268\u001b[0m \u001b[38;5;28;01mreturn\u001b[39;00m _postprocess_for_cut(fac, bins, retbins, original)\n",
      "File \u001b[1;32mc:\\Users\\rchic\\AppData\\Local\\Programs\\Python\\Python313\\Lib\\site-packages\\pandas\\core\\reshape\\tile.py:493\u001b[0m, in \u001b[0;36m_bins_to_cuts\u001b[1;34m(x_idx, bins, right, labels, precision, include_lowest, duplicates, ordered)\u001b[0m\n\u001b[0;32m    491\u001b[0m \u001b[38;5;28;01melse\u001b[39;00m:\n\u001b[0;32m    492\u001b[0m     \u001b[38;5;28;01mif\u001b[39;00m \u001b[38;5;28mlen\u001b[39m(labels) \u001b[38;5;241m!=\u001b[39m \u001b[38;5;28mlen\u001b[39m(bins) \u001b[38;5;241m-\u001b[39m \u001b[38;5;241m1\u001b[39m:\n\u001b[1;32m--> 493\u001b[0m         \u001b[38;5;28;01mraise\u001b[39;00m \u001b[38;5;167;01mValueError\u001b[39;00m(\n\u001b[0;32m    494\u001b[0m             \u001b[38;5;124m\"\u001b[39m\u001b[38;5;124mBin labels must be one fewer than the number of bin edges\u001b[39m\u001b[38;5;124m\"\u001b[39m\n\u001b[0;32m    495\u001b[0m         )\n\u001b[0;32m    497\u001b[0m \u001b[38;5;28;01mif\u001b[39;00m \u001b[38;5;129;01mnot\u001b[39;00m \u001b[38;5;28misinstance\u001b[39m(\u001b[38;5;28mgetattr\u001b[39m(labels, \u001b[38;5;124m\"\u001b[39m\u001b[38;5;124mdtype\u001b[39m\u001b[38;5;124m\"\u001b[39m, \u001b[38;5;28;01mNone\u001b[39;00m), CategoricalDtype):\n\u001b[0;32m    498\u001b[0m     labels \u001b[38;5;241m=\u001b[39m Categorical(\n\u001b[0;32m    499\u001b[0m         labels,\n\u001b[0;32m    500\u001b[0m         categories\u001b[38;5;241m=\u001b[39mlabels \u001b[38;5;28;01mif\u001b[39;00m \u001b[38;5;28mlen\u001b[39m(\u001b[38;5;28mset\u001b[39m(labels)) \u001b[38;5;241m==\u001b[39m \u001b[38;5;28mlen\u001b[39m(labels) \u001b[38;5;28;01melse\u001b[39;00m \u001b[38;5;28;01mNone\u001b[39;00m,\n\u001b[0;32m    501\u001b[0m         ordered\u001b[38;5;241m=\u001b[39mordered,\n\u001b[0;32m    502\u001b[0m     )\n",
      "\u001b[1;31mValueError\u001b[0m: Bin labels must be one fewer than the number of bin edges"
     ]
    }
   ],
   "source": [
    "X['EDAD_COMPLICACION'] = (X['Fecha_cero'] - X['FECHA_NACIMIENTO']).dt.days // 365\n",
    "\n"
   ]
  },
  {
   "cell_type": "markdown",
   "metadata": {
    "id": "iDiJYc2OLNlq"
   },
   "source": [
    "Validamos las variables que tienen mucha nulidad ¿La quitamos? o que nos dice el negocio? Esto es importante para la limpieza y preprocesamiento de datos antes de entrenar modelos de clasificación."
   ]
  },
  {
   "cell_type": "code",
   "execution_count": null,
   "metadata": {
    "execution": {
     "iopub.execute_input": "2025-03-20T02:59:56.115712Z",
     "iopub.status.busy": "2025-03-20T02:59:56.115376Z",
     "iopub.status.idle": "2025-03-20T02:59:56.163374Z",
     "shell.execute_reply": "2025-03-20T02:59:56.162303Z",
     "shell.execute_reply.started": "2025-03-20T02:59:56.115676Z"
    },
    "id": "773Z13riLNlq",
    "trusted": true
   },
   "outputs": [],
   "source": [
    "porcetaje_de_nulidad = (\n",
    "    X.isnull()\n",
    "    .apply(lambda s: s.value_counts(True)).T\n",
    ")\n",
    "\n",
    "porcetaje_de_nulidad.columns = ['not_null', 'null']\n",
    "variables_muy_nulas = porcetaje_de_nulidad.query('null > 0.7').index"
   ]
  },
  {
   "cell_type": "markdown",
   "metadata": {
    "id": "9t536a4oLNlq"
   },
   "source": [
    "Por conocimiento de negocio, se cambian los tipos de algunas variables"
   ]
  },
  {
   "cell_type": "code",
   "execution_count": null,
   "metadata": {
    "execution": {
     "iopub.execute_input": "2025-03-20T02:59:56.554141Z",
     "iopub.status.busy": "2025-03-20T02:59:56.553777Z",
     "iopub.status.idle": "2025-03-20T02:59:56.565208Z",
     "shell.execute_reply": "2025-03-20T02:59:56.564164Z",
     "shell.execute_reply.started": "2025-03-20T02:59:56.554112Z"
    },
    "id": "KanxUCtfLNlq",
    "trusted": true
   },
   "outputs": [],
   "source": [
    "columnas_numerico=['MULTI_CANCER','RIESGOS']\n",
    "X[columnas_numerico] = X[columnas_numerico].astype(float)\n",
    "\n",
    "columnas_categ= ['GENERO','ESTADO_CIVIL',\n",
    "                 'CESION','CANCER_MAMA_FAMILIAR',\n",
    "                'CANCER_OTRO_SITIO','CANCER_OTRO_SITIO_FAMILIAR','CEREBRAL_FAMILIAR'\n",
    "                ,'atencion_nutricion'\n",
    "                ]\n",
    "X[columnas_categ] = X[columnas_categ].astype(str)"
   ]
  },
  {
   "cell_type": "markdown",
   "metadata": {
    "id": "OQpqCyg6LNlq"
   },
   "source": [
    "Dividimos el conjunto de datos en entrenamiento y prueba, por ahora, sin implementar un protocolo complejo de evaluación."
   ]
  },
  {
   "cell_type": "code",
   "execution_count": null,
   "metadata": {
    "execution": {
     "iopub.execute_input": "2025-03-20T02:59:56.949984Z",
     "iopub.status.busy": "2025-03-20T02:59:56.949671Z",
     "iopub.status.idle": "2025-03-20T02:59:56.959175Z",
     "shell.execute_reply": "2025-03-20T02:59:56.958230Z",
     "shell.execute_reply.started": "2025-03-20T02:59:56.949960Z"
    },
    "id": "MWLLzpjLLNlq",
    "trusted": true
   },
   "outputs": [],
   "source": [
    "X_train, X_test, y_train, y_test = train_test_split(X, y, test_size=0.15, random_state=42)\n"
   ]
  },
  {
   "cell_type": "markdown",
   "metadata": {
    "id": "2boquHZzLNlr"
   },
   "source": [
    "Validemos que tan desbalanceados quedaron los particionamientos"
   ]
  },
  {
   "cell_type": "code",
   "execution_count": null,
   "metadata": {
    "colab": {
     "base_uri": "https://localhost:8080/"
    },
    "execution": {
     "iopub.execute_input": "2025-03-20T03:00:01.245769Z",
     "iopub.status.busy": "2025-03-20T03:00:01.245455Z",
     "iopub.status.idle": "2025-03-20T03:00:01.253868Z",
     "shell.execute_reply": "2025-03-20T03:00:01.252932Z",
     "shell.execute_reply.started": "2025-03-20T03:00:01.245744Z"
    },
    "id": "bqzIOga7LNlr",
    "outputId": "c7a3098d-7a24-4166-ecf5-6b24d76af55f",
    "trusted": true
   },
   "outputs": [],
   "source": [
    "print(y_train.value_counts(True)*100)\n",
    "print(y_test.value_counts(True)*100)"
   ]
  },
  {
   "cell_type": "markdown",
   "metadata": {
    "id": "hDdZ2CpPLNlr"
   },
   "source": [
    "Este fragmento de código separa las variables en categóricas y numéricas, eliminando aquellas que tienen más del 70% de valores nulos (almacenadas en variables_muy_nulas)."
   ]
  },
  {
   "cell_type": "code",
   "execution_count": null,
   "metadata": {
    "execution": {
     "iopub.execute_input": "2025-03-20T03:00:01.714507Z",
     "iopub.status.busy": "2025-03-20T03:00:01.714172Z",
     "iopub.status.idle": "2025-03-20T03:00:01.724254Z",
     "shell.execute_reply": "2025-03-20T03:00:01.723265Z",
     "shell.execute_reply.started": "2025-03-20T03:00:01.714481Z"
    },
    "id": "zkHM0xaOLNlr",
    "trusted": true
   },
   "outputs": [],
   "source": [
    "##Selecciona las columnas categóricas (variables tipo object o cadenas de texto) en X_train.\n",
    "categoricas = X_train.select_dtypes('object').columns\n",
    "categoricas = categoricas.delete(\n",
    "    categoricas.isin(variables_muy_nulas)\n",
    ")\n",
    "\n",
    "##Selecciona las columnas numéricas en X_train (variables tipo int o float).\n",
    "numericas = X_train.select_dtypes('number').columns\n",
    "numericas = numericas.delete(\n",
    "    numericas.isin(variables_muy_nulas)\n",
    ")"
   ]
  },
  {
   "cell_type": "markdown",
   "metadata": {
    "id": "m9l0CS6gLNlr"
   },
   "source": [
    "Configuración para el codificador One-Hot (OneHotEncoder) en el preprocesamiento de variables categóricas."
   ]
  },
  {
   "cell_type": "code",
   "execution_count": null,
   "metadata": {
    "execution": {
     "iopub.execute_input": "2025-03-20T03:00:02.182325Z",
     "iopub.status.busy": "2025-03-20T03:00:02.181967Z",
     "iopub.status.idle": "2025-03-20T03:00:02.186398Z",
     "shell.execute_reply": "2025-03-20T03:00:02.185348Z",
     "shell.execute_reply.started": "2025-03-20T03:00:02.182297Z"
    },
    "id": "79u3iaCCLNlr",
    "trusted": true
   },
   "outputs": [],
   "source": [
    "config_onehot = dict(\n",
    "    handle_unknown='ignore' # Ignora cualquier categoría desconocida que aparezca en los datos de prueba pero que no estaba en los datos de entrenamiento.\n",
    ")"
   ]
  },
  {
   "cell_type": "markdown",
   "metadata": {
    "id": "UC5cHhlRLNlr"
   },
   "source": [
    "### Fit Manual\n",
    "\n",
    "Implementa una serie de pasos de preprocesamiento y entrenamiento de un modelo KNN para la clasificación, d manera manual."
   ]
  },
  {
   "cell_type": "markdown",
   "metadata": {
    "id": "3NjdfW3PLNlr"
   },
   "source": [
    "#### Imputación de valores faltantes"
   ]
  },
  {
   "cell_type": "code",
   "execution_count": null,
   "metadata": {
    "colab": {
     "base_uri": "https://localhost:8080/",
     "height": 80
    },
    "execution": {
     "iopub.execute_input": "2025-03-20T03:00:06.323264Z",
     "iopub.status.busy": "2025-03-20T03:00:06.322887Z",
     "iopub.status.idle": "2025-03-20T03:00:06.339731Z",
     "shell.execute_reply": "2025-03-20T03:00:06.338840Z",
     "shell.execute_reply.started": "2025-03-20T03:00:06.323231Z"
    },
    "id": "sRsRmBR5LNlr",
    "outputId": "8fe24041-232f-4f6b-ec3f-a7b0070f9291",
    "trusted": true
   },
   "outputs": [],
   "source": [
    "imputer = SimpleImputer(strategy='mean')\n",
    "imputer.fit(X_train[numericas])"
   ]
  },
  {
   "cell_type": "code",
   "execution_count": null,
   "metadata": {
    "execution": {
     "iopub.execute_input": "2025-03-20T03:00:06.605039Z",
     "iopub.status.busy": "2025-03-20T03:00:06.604694Z",
     "iopub.status.idle": "2025-03-20T03:00:06.616708Z",
     "shell.execute_reply": "2025-03-20T03:00:06.615757Z",
     "shell.execute_reply.started": "2025-03-20T03:00:06.605009Z"
    },
    "id": "7loRIlZjLNlr",
    "trusted": true
   },
   "outputs": [],
   "source": [
    "X_train_transf_num = imputer.transform(X_train[numericas])\n",
    "X_val_transf_num = imputer.transform(X_test[numericas])"
   ]
  },
  {
   "cell_type": "code",
   "execution_count": null,
   "metadata": {
    "colab": {
     "base_uri": "https://localhost:8080/"
    },
    "execution": {
     "iopub.execute_input": "2025-03-20T03:00:06.844258Z",
     "iopub.status.busy": "2025-03-20T03:00:06.843907Z",
     "iopub.status.idle": "2025-03-20T03:00:06.850045Z",
     "shell.execute_reply": "2025-03-20T03:00:06.849110Z",
     "shell.execute_reply.started": "2025-03-20T03:00:06.844231Z"
    },
    "id": "jP02sVltLNlr",
    "outputId": "181a01b3-5b2f-4c7e-8797-77c8d591a652",
    "trusted": true
   },
   "outputs": [],
   "source": [
    "pd.DataFrame(X_val_transf_num).isnull().values.any()"
   ]
  },
  {
   "cell_type": "markdown",
   "metadata": {
    "id": "-NfXywTvLNlr"
   },
   "source": [
    "#### Normalización de datos (Estandarización)\n",
    "\n",
    "Otras maneras\n",
    "https://machinelearningmastery.com/standardscaler-and-minmaxscaler-transforms-in-python/"
   ]
  },
  {
   "cell_type": "code",
   "execution_count": null,
   "metadata": {
    "colab": {
     "base_uri": "https://localhost:8080/",
     "height": 80
    },
    "execution": {
     "iopub.execute_input": "2025-03-20T03:00:08.956548Z",
     "iopub.status.busy": "2025-03-20T03:00:08.956214Z",
     "iopub.status.idle": "2025-03-20T03:00:08.970522Z",
     "shell.execute_reply": "2025-03-20T03:00:08.969569Z",
     "shell.execute_reply.started": "2025-03-20T03:00:08.956522Z"
    },
    "id": "AoMi1wMFLNlr",
    "outputId": "1ad426ae-ea1d-43fd-e0fc-35d89c72001a",
    "trusted": true
   },
   "outputs": [],
   "source": [
    "scaler = StandardScaler()\n",
    "scaler.fit(X_train_transf_num)"
   ]
  },
  {
   "cell_type": "code",
   "execution_count": null,
   "metadata": {
    "execution": {
     "iopub.execute_input": "2025-03-20T03:00:09.268243Z",
     "iopub.status.busy": "2025-03-20T03:00:09.267857Z",
     "iopub.status.idle": "2025-03-20T03:00:09.278387Z",
     "shell.execute_reply": "2025-03-20T03:00:09.277433Z",
     "shell.execute_reply.started": "2025-03-20T03:00:09.268211Z"
    },
    "id": "p6cByFJ2LNlr",
    "trusted": true
   },
   "outputs": [],
   "source": [
    "X_train_transf_num = scaler.transform(X_train_transf_num)\n",
    "X_val_transf_num = scaler.transform(X_val_transf_num)"
   ]
  },
  {
   "cell_type": "markdown",
   "metadata": {
    "id": "H-xn6IwHLNlr"
   },
   "source": [
    "#### Selección de características con baja varianza\n",
    "\n",
    "Otras maneras\n",
    "\n",
    "https://www.analyticsvidhya.com/blog/2020/10/feature-selection-techniques-in-machine-learning/\n",
    "\n",
    "https://machinelearningmastery.com/feature-selection-with-real-and-categorical-data/"
   ]
  },
  {
   "cell_type": "code",
   "execution_count": null,
   "metadata": {
    "colab": {
     "base_uri": "https://localhost:8080/",
     "height": 80
    },
    "execution": {
     "iopub.execute_input": "2025-03-20T03:00:11.362498Z",
     "iopub.status.busy": "2025-03-20T03:00:11.362162Z",
     "iopub.status.idle": "2025-03-20T03:00:11.370853Z",
     "shell.execute_reply": "2025-03-20T03:00:11.369977Z",
     "shell.execute_reply.started": "2025-03-20T03:00:11.362472Z"
    },
    "id": "Zmqcypw6LNlr",
    "outputId": "c93adfe8-68b1-4502-cb2f-44a43c949781",
    "trusted": true
   },
   "outputs": [],
   "source": [
    "select_vth= VarianceThreshold(0.1)\n",
    "select_vth.fit(X_train_transf_num)"
   ]
  },
  {
   "cell_type": "code",
   "execution_count": null,
   "metadata": {
    "execution": {
     "iopub.execute_input": "2025-03-20T03:00:11.660607Z",
     "iopub.status.busy": "2025-03-20T03:00:11.660268Z",
     "iopub.status.idle": "2025-03-20T03:00:11.665642Z",
     "shell.execute_reply": "2025-03-20T03:00:11.664746Z",
     "shell.execute_reply.started": "2025-03-20T03:00:11.660578Z"
    },
    "id": "k5Tu2PkSLNls",
    "trusted": true
   },
   "outputs": [],
   "source": [
    "X_train_transf_num = select_vth.transform(X_train_transf_num)\n",
    "X_val_transf_num = select_vth.transform(X_val_transf_num)"
   ]
  },
  {
   "cell_type": "code",
   "execution_count": null,
   "metadata": {
    "id": "P5s5q16VLNls",
    "trusted": true
   },
   "outputs": [],
   "source": []
  },
  {
   "cell_type": "markdown",
   "metadata": {
    "id": "MFqgnh_0LNls"
   },
   "source": [
    "#### Entrenamiento del modelo KNN"
   ]
  },
  {
   "cell_type": "code",
   "execution_count": null,
   "metadata": {
    "colab": {
     "base_uri": "https://localhost:8080/",
     "height": 80
    },
    "execution": {
     "iopub.execute_input": "2025-03-20T03:00:14.927637Z",
     "iopub.status.busy": "2025-03-20T03:00:14.927320Z",
     "iopub.status.idle": "2025-03-20T03:00:14.935914Z",
     "shell.execute_reply": "2025-03-20T03:00:14.934882Z",
     "shell.execute_reply.started": "2025-03-20T03:00:14.927614Z"
    },
    "id": "6fQX7xUuLNls",
    "outputId": "c65362ea-0b66-458e-fc4c-88c905f5b47f",
    "trusted": true
   },
   "outputs": [],
   "source": [
    "knn_model = KNeighborsClassifier(n_neighbors=5)\n",
    "knn_model.fit(X_train_transf_num,y_train)"
   ]
  },
  {
   "cell_type": "markdown",
   "metadata": {
    "id": "00yPTz5TLNls"
   },
   "source": [
    "Si queremos probar otro modelo (como regresión logística), tendríamos que copiar y pegar todo el código anterior y cambiar solo la última parte. Esto es ineficiente, propenso a errores y difícil de mantener."
   ]
  },
  {
   "cell_type": "markdown",
   "metadata": {
    "id": "pJ97uf3QLNlv"
   },
   "source": [
    "### Mejor, Construyamos un Pipeline que ejecute todo el flujo!"
   ]
  },
  {
   "cell_type": "markdown",
   "metadata": {
    "id": "TuDmQ-obLNlv"
   },
   "source": [
    "## Arboles"
   ]
  },
  {
   "cell_type": "code",
   "execution_count": null,
   "metadata": {
    "execution": {
     "iopub.execute_input": "2025-03-20T03:00:17.658508Z",
     "iopub.status.busy": "2025-03-20T03:00:17.658173Z",
     "iopub.status.idle": "2025-03-20T03:00:17.663380Z",
     "shell.execute_reply": "2025-03-20T03:00:17.662411Z",
     "shell.execute_reply.started": "2025-03-20T03:00:17.658482Z"
    },
    "id": "f1gEDmv1LNlv",
    "trusted": true
   },
   "outputs": [],
   "source": [
    "numeric_transformer = Pipeline(\n",
    "    steps=[(\"imputer\",  SimpleImputer(strategy='mean')),\n",
    "           (\"select_var\", VarianceThreshold(0.1))\n",
    "           ]\n",
    ")\n",
    "\n",
    "categorical_transformer = Pipeline(\n",
    "    steps=[('imputer', SimpleImputer(strategy='most_frequent')),\n",
    "           ('dumm', OneHotEncoder(**config_onehot)),\n",
    "           ]\n",
    ")\n",
    "\n",
    "tree_preprocessing = ColumnTransformer(\n",
    "    transformers=[\n",
    "        (\"num\", numeric_transformer, numericas),\n",
    "        (\"cat\", categorical_transformer, categoricas),\n",
    "    ]\n",
    ")"
   ]
  },
  {
   "cell_type": "markdown",
   "metadata": {
    "id": "l2iH5G6WLNlv"
   },
   "source": [
    "### ID3"
   ]
  },
  {
   "cell_type": "code",
   "execution_count": null,
   "metadata": {
    "colab": {
     "base_uri": "https://localhost:8080/"
    },
    "execution": {
     "iopub.execute_input": "2025-03-20T03:00:20.219683Z",
     "iopub.status.busy": "2025-03-20T03:00:20.219352Z",
     "iopub.status.idle": "2025-03-20T03:00:20.352828Z",
     "shell.execute_reply": "2025-03-20T03:00:20.351883Z",
     "shell.execute_reply.started": "2025-03-20T03:00:20.219656Z"
    },
    "id": "2rHsKynfLNlv",
    "outputId": "8508164e-fea7-48a6-826c-6050dc21bcc6",
    "trusted": true
   },
   "outputs": [],
   "source": [
    "config_ctree = dict(criterion='entropy', # el criterio de particionamiento de un conjunto de datos (gini, entropy)\n",
    "        #    max_depth=None,      # prepoda: controla la profundidad del árbol (largo máximo de las ramas)\n",
    "        #    min_samples_split=2, # prepoda: el mínimo número de registros necesarios para crear una nueva rama\n",
    "        #    min_samples_leaf=1,  # prepoda: el mínimo número de registros en una hoja\n",
    "        #    random_state=None,   # semilla del generador aleatorio utilizado para\n",
    "        #    max_leaf_nodes=None, # prepoda: máximo número de nodos hojas\n",
    "        #    min_impurity_decrease=0.0 # prepoda: umbral mínimo de reducción de la impureza para aceptar la creación de una rama\n",
    ")\n",
    "\n",
    "ctree_id3_pipeline = Pipeline([\n",
    "    ('preprocesamiento', tree_preprocessing),\n",
    "    ('classificador', tree.DecisionTreeClassifier(**config_ctree\n",
    "            ))\n",
    "])\n",
    "\n",
    "start = time()\n",
    "ctree_id3_pipeline.fit(X_train, y_train)\n",
    "end = time()\n",
    "\n",
    "print(\n",
    "    'Tiempo Entrenamiento ctree_id3:',\n",
    "    str(timedelta(seconds=end-start))\n",
    ")"
   ]
  },
  {
   "cell_type": "code",
   "execution_count": null,
   "metadata": {
    "colab": {
     "base_uri": "https://localhost:8080/"
    },
    "execution": {
     "iopub.execute_input": "2025-03-20T03:00:20.877877Z",
     "iopub.status.busy": "2025-03-20T03:00:20.877564Z",
     "iopub.status.idle": "2025-03-20T03:00:22.674270Z",
     "shell.execute_reply": "2025-03-20T03:00:22.673395Z",
     "shell.execute_reply.started": "2025-03-20T03:00:20.877853Z"
    },
    "id": "1_4YnP0qLNlw",
    "outputId": "04a43e7e-5524-4cdd-b85e-91b76fb5c888",
    "trusted": true
   },
   "outputs": [],
   "source": [
    "ctree_id3_val_preds = ctree_id3_pipeline.predict_proba(X_test)[:, 1]\n",
    "ctree_id3_metrics = get_imbalaced_metrics(y_test, ctree_id3_val_preds)\n",
    "ctree_id3_metrics"
   ]
  },
  {
   "cell_type": "markdown",
   "metadata": {
    "id": "Q9S4a7jVLNlw"
   },
   "source": [
    "### CART"
   ]
  },
  {
   "cell_type": "code",
   "execution_count": null,
   "metadata": {
    "colab": {
     "base_uri": "https://localhost:8080/"
    },
    "execution": {
     "iopub.execute_input": "2025-03-20T03:00:25.761970Z",
     "iopub.status.busy": "2025-03-20T03:00:25.761648Z",
     "iopub.status.idle": "2025-03-20T03:00:25.913521Z",
     "shell.execute_reply": "2025-03-20T03:00:25.912555Z",
     "shell.execute_reply.started": "2025-03-20T03:00:25.761944Z"
    },
    "id": "gDCJHhO5LNlw",
    "outputId": "89f3e144-f08a-42cd-efd6-47f51d7d8d66",
    "trusted": true
   },
   "outputs": [],
   "source": [
    "config_ctree_cart = dict(criterion='gini', # el criterio de particionamiento de un conjunto de datos (gini, entropy)\n",
    "        #    max_depth=200,      # prepoda: controla la profundidad del árbol (largo máximo de las ramas)\n",
    "        #    min_samples_split=2, # prepoda: el mínimo número de registros necesarios para crear una nueva rama\n",
    "        #    min_samples_leaf=1,  # prepoda: el mínimo número de registros en una hoja\n",
    "        #    random_state=None,   # semilla del generador aleatorio utilizado para\n",
    "        #    max_leaf_nodes=200, # prepoda: máximo número de nodos hojas\n",
    "        #    min_impurity_decrease=0.0 # prepoda: umbral mínimo de reducción de la impureza para aceptar la creación de una rama\n",
    ")\n",
    "\n",
    "ctree_cart_pipeline = Pipeline([\n",
    "    ('preprocesamiento', tree_preprocessing),\n",
    "    ('classificador', tree.DecisionTreeClassifier(**config_ctree_cart\n",
    "            ))\n",
    "])\n",
    "\n",
    "start = time()\n",
    "ctree_cart_pipeline.fit(X_train, y_train)\n",
    "end = time()\n",
    "\n",
    "#imprimimos la cantidad de ramas qdel arbol\n",
    "\n",
    "print(\n",
    "    'Tiempo Entrenamiento ctree_cart:',\n",
    "    str(timedelta(seconds=end-start))\n",
    ")"
   ]
  },
  {
   "cell_type": "code",
   "execution_count": null,
   "metadata": {
    "colab": {
     "base_uri": "https://localhost:8080/"
    },
    "id": "Sv1K0aEYzIzd",
    "outputId": "bd792cfc-9b6a-45a1-824d-e571c46fff51"
   },
   "outputs": [],
   "source": [
    "arbol = ctree_cart_pipeline.named_steps['classificador']\n",
    "print('Cantidad de ramas:', arbol.tree_.node_count)\n",
    "numero_de_ramas = arbol.tree_.n_leaves\n",
    "print(f\"El árbol tiene {numero_de_ramas} ramas.\")"
   ]
  },
  {
   "cell_type": "code",
   "execution_count": null,
   "metadata": {
    "id": "mdhbSz__1UZe"
   },
   "outputs": [],
   "source": [
    "param_grid = {\n",
    "    'classificador__criterion': ['gini', 'entropy'],\n",
    "    'classificador__max_depth': [None, 5, 10, 15, 20, 25, 30],\n",
    "    'classificador__min_samples_split': [2, 5, 10, 15, 20],\n",
    "    'classificador__min_samples_leaf': [1, 2, 5, 10],\n",
    "    'classificador__max_leaf_nodes': [None, 50, 100, 200],\n",
    "    'classificador__min_impurity_decrease': [0.0, 0.01, 0.05]\n",
    "}"
   ]
  },
  {
   "cell_type": "code",
   "execution_count": null,
   "metadata": {
    "colab": {
     "base_uri": "https://localhost:8080/",
     "height": 322
    },
    "id": "BULlHAnE1VYv",
    "outputId": "e959b753-a46f-4fe5-e1fa-2ed1d2b61797"
   },
   "outputs": [],
   "source": [
    "from sklearn.model_selection import GridSearchCV\n",
    "\n",
    "grid_search = GridSearchCV(\n",
    "       ctree_cart_pipeline,\n",
    "       param_grid,\n",
    "       scoring='f1',\n",
    "       cv=5,\n",
    "       n_jobs=-1\n",
    "   )\n",
    "\n",
    "grid_search.fit(X_train, y_train)"
   ]
  },
  {
   "cell_type": "code",
   "execution_count": null,
   "metadata": {
    "colab": {
     "base_uri": "https://localhost:8080/"
    },
    "id": "0_1DbHKW1WDo",
    "outputId": "ed258fe5-7b18-4ae8-e54c-412df7a02fdf"
   },
   "outputs": [],
   "source": [
    "best_params = grid_search.best_params_\n",
    "print(f\"Mejores hiperparámetros: {best_params}\")"
   ]
  },
  {
   "cell_type": "code",
   "execution_count": null,
   "metadata": {
    "colab": {
     "base_uri": "https://localhost:8080/"
    },
    "id": "QtMfUXRs1Wbc",
    "outputId": "b7e4f389-201c-4324-c4de-3be403f55a02"
   },
   "outputs": [],
   "source": [
    "best_model = grid_search.best_estimator_\n",
    "y_pred = best_model.predict(X_test)\n",
    "# ... Calcular las métricas de evaluación ...\n",
    "best_model_metrics = get_imbalaced_metrics(y_test, y_pred)\n",
    "best_model_metrics\n"
   ]
  },
  {
   "cell_type": "code",
   "execution_count": null,
   "metadata": {
    "id": "vtpnUa824rrd"
   },
   "outputs": [],
   "source": [
    "ths = np.linspace(0, 1, 1000)\n",
    "best_th = ths[np.argmax([skm.f1_score(y_test, best_model.predict_proba(X_test)[:, 1] > th) for th in ths])]\n",
    "print(f\"Mejor umbral: {best_th}\")\n",
    "test_df = pd.read_parquet(\"../Data/df_test.parquet\")\n",
    "test_df['EDAD_COMPLICACION'] = (test_df['Fecha_cero'] - test_df['FECHA_NACIMIENTO']).dt.days // 365\n",
    "\n",
    "test_df[columnas_numerico] = X[columnas_numerico].astype(float)\n",
    "test_df[columnas_categ] = X[columnas_categ].astype(str)\n",
    "\n",
    "# Usar best_model para las predicciones\n",
    "submission_pred = best_model.predict_proba(test_df)[:, 1]\n",
    "\n",
    "submission_pred_bool = submission_pred > best_th  # Asumiendo que best_th ya está definido\n",
    "submission_pred_int = [int(item) for item in submission_pred_bool]\n",
    "submission = pd.DataFrame(data=dict(ID=test_df.index, Target=submission_pred_int))\n",
    "submission.to_csv(\"submission_cart_optimizado.csv\", index=False)"
   ]
  },
  {
   "cell_type": "code",
   "execution_count": null,
   "metadata": {
    "colab": {
     "base_uri": "https://localhost:8080/"
    },
    "execution": {
     "iopub.execute_input": "2025-03-20T03:00:26.840954Z",
     "iopub.status.busy": "2025-03-20T03:00:26.840632Z",
     "iopub.status.idle": "2025-03-20T03:00:28.646142Z",
     "shell.execute_reply": "2025-03-20T03:00:28.645160Z",
     "shell.execute_reply.started": "2025-03-20T03:00:26.840929Z"
    },
    "id": "P2eM2f0XLNlw",
    "outputId": "e9c1de05-4e22-454b-f9d2-e5d25481f2a2",
    "trusted": true
   },
   "outputs": [],
   "source": [
    "ctree_cart_val_preds = ctree_cart_pipeline.predict_proba(X_test)[:, 1]\n",
    "ctree_cart_metrics = get_imbalaced_metrics(y_test, ctree_cart_val_preds)\n",
    "ctree_cart_metrics"
   ]
  },
  {
   "cell_type": "markdown",
   "metadata": {
    "id": "BkugmlbGLNlw"
   },
   "source": [
    "Probá cambiando los hiperparametros!\n",
    "\n",
    "https://scikit-learn.org/stable/modules/tree.html"
   ]
  }
 ],
 "metadata": {
  "colab": {
   "provenance": []
  },
  "kaggle": {
   "accelerator": "none",
   "dataSources": [
    {
     "databundleVersionId": 11455223,
     "sourceId": 96400,
     "sourceType": "competition"
    }
   ],
   "dockerImageVersionId": 30918,
   "isGpuEnabled": false,
   "isInternetEnabled": true,
   "language": "python",
   "sourceType": "notebook"
  },
  "kernelspec": {
   "display_name": "Python 3",
   "language": "python",
   "name": "python3"
  },
  "language_info": {
   "codemirror_mode": {
    "name": "ipython",
    "version": 3
   },
   "file_extension": ".py",
   "mimetype": "text/x-python",
   "name": "python",
   "nbconvert_exporter": "python",
   "pygments_lexer": "ipython3",
   "version": "3.13.2"
  }
 },
 "nbformat": 4,
 "nbformat_minor": 0
}
